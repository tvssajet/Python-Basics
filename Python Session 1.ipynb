{
 "cells": [
  {
   "cell_type": "markdown",
   "id": "322a3bcb",
   "metadata": {},
   "source": [
    "# Python Basics"
   ]
  },
  {
   "cell_type": "code",
   "execution_count": 4,
   "id": "bf23b1d2",
   "metadata": {},
   "outputs": [],
   "source": [
    "a = \"This is my firt class\""
   ]
  },
  {
   "cell_type": "code",
   "execution_count": 5,
   "id": "1bb7deab",
   "metadata": {},
   "outputs": [
    {
     "data": {
      "text/plain": [
       "str"
      ]
     },
     "execution_count": 5,
     "metadata": {},
     "output_type": "execute_result"
    }
   ],
   "source": [
    "type(a)"
   ]
  },
  {
   "cell_type": "code",
   "execution_count": 6,
   "id": "e940adaf",
   "metadata": {},
   "outputs": [],
   "source": [
    "b=5"
   ]
  },
  {
   "cell_type": "code",
   "execution_count": 7,
   "id": "fd5d5125",
   "metadata": {},
   "outputs": [
    {
     "data": {
      "text/plain": [
       "int"
      ]
     },
     "execution_count": 7,
     "metadata": {},
     "output_type": "execute_result"
    }
   ],
   "source": [
    "type(b)"
   ]
  },
  {
   "cell_type": "code",
   "execution_count": 8,
   "id": "954567e9",
   "metadata": {},
   "outputs": [],
   "source": [
    "c=4.5"
   ]
  },
  {
   "cell_type": "code",
   "execution_count": 9,
   "id": "ab85eeea",
   "metadata": {},
   "outputs": [
    {
     "data": {
      "text/plain": [
       "float"
      ]
     },
     "execution_count": 9,
     "metadata": {},
     "output_type": "execute_result"
    }
   ],
   "source": [
    "type(c)"
   ]
  },
  {
   "cell_type": "code",
   "execution_count": 10,
   "id": "a7ebef94",
   "metadata": {},
   "outputs": [],
   "source": [
    "a =\"This is my first class\""
   ]
  },
  {
   "cell_type": "code",
   "execution_count": 11,
   "id": "301038a9",
   "metadata": {},
   "outputs": [
    {
     "data": {
      "text/plain": [
       "22"
      ]
     },
     "execution_count": 11,
     "metadata": {},
     "output_type": "execute_result"
    }
   ],
   "source": [
    "len(a)"
   ]
  },
  {
   "cell_type": "code",
   "execution_count": 12,
   "id": "e77d3d46",
   "metadata": {},
   "outputs": [
    {
     "data": {
      "text/plain": [
       "'T'"
      ]
     },
     "execution_count": 12,
     "metadata": {},
     "output_type": "execute_result"
    }
   ],
   "source": [
    "#strings have index. They start with 0\n",
    "a[0]"
   ]
  },
  {
   "cell_type": "code",
   "execution_count": 13,
   "id": "d154099d",
   "metadata": {},
   "outputs": [
    {
     "data": {
      "text/plain": [
       "' '"
      ]
     },
     "execution_count": 13,
     "metadata": {},
     "output_type": "execute_result"
    }
   ],
   "source": [
    "a[4]"
   ]
  },
  {
   "cell_type": "code",
   "execution_count": 14,
   "id": "4e34173d",
   "metadata": {},
   "outputs": [
    {
     "data": {
      "text/plain": [
       "'s'"
      ]
     },
     "execution_count": 14,
     "metadata": {},
     "output_type": "execute_result"
    }
   ],
   "source": [
    "a[-1]"
   ]
  },
  {
   "cell_type": "code",
   "execution_count": 15,
   "id": "fa1d414d",
   "metadata": {},
   "outputs": [
    {
     "data": {
      "text/plain": [
       "'s'"
      ]
     },
     "execution_count": 15,
     "metadata": {},
     "output_type": "execute_result"
    }
   ],
   "source": [
    "a[-2]"
   ]
  },
  {
   "cell_type": "code",
   "execution_count": 16,
   "id": "6881f996",
   "metadata": {},
   "outputs": [],
   "source": [
    "#slicing a string\n",
    "str1 = \"(Today is our first class)\""
   ]
  },
  {
   "cell_type": "code",
   "execution_count": 17,
   "id": "728cbd7d",
   "metadata": {},
   "outputs": [
    {
     "data": {
      "text/plain": [
       "'This i'"
      ]
     },
     "execution_count": 17,
     "metadata": {},
     "output_type": "execute_result"
    }
   ],
   "source": [
    "a[0:6]"
   ]
  },
  {
   "cell_type": "code",
   "execution_count": 18,
   "id": "dd666c30",
   "metadata": {},
   "outputs": [
    {
     "data": {
      "text/plain": [
       "['This', 'is', 'my', 'first', 'class']"
      ]
     },
     "execution_count": 18,
     "metadata": {},
     "output_type": "execute_result"
    }
   ],
   "source": [
    "a.split(' ')"
   ]
  },
  {
   "cell_type": "code",
   "execution_count": 20,
   "id": "02580e95",
   "metadata": {},
   "outputs": [
    {
     "data": {
      "text/plain": [
       "'THIS IS MY FIRST CLASS'"
      ]
     },
     "execution_count": 20,
     "metadata": {},
     "output_type": "execute_result"
    }
   ],
   "source": [
    "a.upper()"
   ]
  },
  {
   "cell_type": "code",
   "execution_count": 21,
   "id": "594d3a32",
   "metadata": {},
   "outputs": [
    {
     "data": {
      "text/plain": [
       "'this is my first class'"
      ]
     },
     "execution_count": 21,
     "metadata": {},
     "output_type": "execute_result"
    }
   ],
   "source": [
    "a.lower()"
   ]
  },
  {
   "cell_type": "code",
   "execution_count": 29,
   "id": "43e384ef",
   "metadata": {},
   "outputs": [],
   "source": [
    "a1 = \"Mumbai\"\n",
    "a2 = \" Mumbai  \"\n",
    "a3 = \"Mumbai\""
   ]
  },
  {
   "cell_type": "code",
   "execution_count": 24,
   "id": "502cccba",
   "metadata": {},
   "outputs": [
    {
     "data": {
      "text/plain": [
       "'Mumbai'"
      ]
     },
     "execution_count": 24,
     "metadata": {},
     "output_type": "execute_result"
    }
   ],
   "source": [
    "a1.strip()"
   ]
  },
  {
   "cell_type": "code",
   "execution_count": 30,
   "id": "93ee1b49",
   "metadata": {},
   "outputs": [
    {
     "data": {
      "text/plain": [
       "'Mumbai'"
      ]
     },
     "execution_count": 30,
     "metadata": {},
     "output_type": "execute_result"
    }
   ],
   "source": [
    "a2 = a2.strip()\n",
    "\n",
    "a2"
   ]
  },
  {
   "cell_type": "code",
   "execution_count": 28,
   "id": "a658af2c",
   "metadata": {},
   "outputs": [
    {
     "data": {
      "text/plain": [
       "'Mumbai'"
      ]
     },
     "execution_count": 28,
     "metadata": {},
     "output_type": "execute_result"
    }
   ],
   "source": [
    "a3 = a3.strip()\n",
    "a3"
   ]
  },
  {
   "cell_type": "markdown",
   "id": "c554fee2",
   "metadata": {},
   "source": [
    "# IF AND ELSE "
   ]
  },
  {
   "cell_type": "code",
   "execution_count": 32,
   "id": "05024db9",
   "metadata": {},
   "outputs": [
    {
     "name": "stdout",
     "output_type": "stream",
     "text": [
      "Total amount is greater than 100\n",
      "You can spend money\n",
      "if and else code over\n"
     ]
    }
   ],
   "source": [
    "amount = 110\n",
    "\n",
    "if amount>100:\n",
    "    print(\"Total amount is greater than 100\")\n",
    "    print(\"You can spend money\")\n",
    "else:\n",
    "    print(\"Not enough Money\")\n",
    "    print(\"Save More\")\n",
    "    \n",
    "print(\"if and else code over\")"
   ]
  },
  {
   "cell_type": "code",
   "execution_count": 38,
   "id": "07886789",
   "metadata": {},
   "outputs": [
    {
     "name": "stdout",
     "output_type": "stream",
     "text": [
      " I have exactly 100 Rs.\n",
      "Spend Wisely\n",
      "if elif code over\n"
     ]
    }
   ],
   "source": [
    "amount = 100\n",
    "if  amount>100:\n",
    "    print(\"Total amount is greater than 100\")\n",
    "    print(\"You can spemd money\")\n",
    "\n",
    "elif (80< amount <= 100):\n",
    "    print(\" I have exactly {} Rs.\".format(amount))\n",
    "    print('Spend Wisely')\n",
    "    \n",
    "elif(60< amount <= 80):\n",
    "    print('Low Money',amount)\n",
    "    print('Save more')\n",
    "else:\n",
    "    print(\"Not emough money\")\n",
    "    print(\"Save More\")\n",
    "\n",
    "print(\"if elif code over\")"
   ]
  },
  {
   "cell_type": "code",
   "execution_count": null,
   "id": "2b4194c3",
   "metadata": {},
   "outputs": [],
   "source": []
  }
 ],
 "metadata": {
  "kernelspec": {
   "display_name": "Python 3",
   "language": "python",
   "name": "python3"
  },
  "language_info": {
   "codemirror_mode": {
    "name": "ipython",
    "version": 3
   },
   "file_extension": ".py",
   "mimetype": "text/x-python",
   "name": "python",
   "nbconvert_exporter": "python",
   "pygments_lexer": "ipython3",
   "version": "3.8.8"
  }
 },
 "nbformat": 4,
 "nbformat_minor": 5
}
