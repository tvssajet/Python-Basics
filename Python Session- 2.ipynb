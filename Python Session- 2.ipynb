{
 "cells": [
  {
   "cell_type": "markdown",
   "id": "5385ce3e",
   "metadata": {},
   "source": [
    "# Python Session- 2\n"
   ]
  },
  {
   "cell_type": "code",
   "execution_count": 6,
   "id": "9a9af80a",
   "metadata": {},
   "outputs": [
    {
     "name": "stdout",
     "output_type": "stream",
     "text": [
      "-5\n",
      "-4\n",
      "-3\n",
      "-2\n",
      "-1\n",
      "0\n",
      "1\n",
      "2\n",
      "3\n",
      "4\n"
     ]
    }
   ],
   "source": [
    "for i in range(-5,5):\n",
    "        print(i)"
   ]
  },
  {
   "cell_type": "code",
   "execution_count": 7,
   "id": "5af375a3",
   "metadata": {},
   "outputs": [
    {
     "name": "stdout",
     "output_type": "stream",
     "text": [
      "0\n",
      "1\n",
      "2\n",
      "3\n",
      "4\n"
     ]
    }
   ],
   "source": [
    "for i in range(0,5):\n",
    "    print(i)"
   ]
  },
  {
   "cell_type": "code",
   "execution_count": 8,
   "id": "fab495a4",
   "metadata": {},
   "outputs": [
    {
     "name": "stdout",
     "output_type": "stream",
     "text": [
      "0\n",
      "1\n",
      "2\n",
      "3\n",
      "4\n"
     ]
    }
   ],
   "source": [
    "for i in range(5):\n",
    "    print(i)"
   ]
  },
  {
   "cell_type": "code",
   "execution_count": null,
   "id": "8347974d",
   "metadata": {},
   "outputs": [],
   "source": []
  },
  {
   "cell_type": "code",
   "execution_count": 2,
   "id": "ddbef9fd",
   "metadata": {},
   "outputs": [
    {
     "name": "stdout",
     "output_type": "stream",
     "text": [
      "0\n",
      "1\n",
      "2\n",
      "3\n",
      "4\n"
     ]
    }
   ],
   "source": [
    "for i in range(5):\n",
    "    print(i)"
   ]
  },
  {
   "cell_type": "code",
   "execution_count": 4,
   "id": "a94a31fa",
   "metadata": {},
   "outputs": [
    {
     "name": "stdout",
     "output_type": "stream",
     "text": [
      "5\n",
      "4\n",
      "3\n",
      "2\n",
      "1\n",
      "0\n",
      "-1\n",
      "-2\n",
      "-3\n",
      "-4\n"
     ]
    }
   ],
   "source": [
    "for i in range(5,-5,-1):\n",
    "    print(i)"
   ]
  },
  {
   "cell_type": "code",
   "execution_count": 2,
   "id": "974cdfb7",
   "metadata": {},
   "outputs": [],
   "source": [
    "a =\"This is our first class\""
   ]
  },
  {
   "cell_type": "code",
   "execution_count": 9,
   "id": "36174ced",
   "metadata": {},
   "outputs": [
    {
     "data": {
      "text/plain": [
       "23"
      ]
     },
     "execution_count": 9,
     "metadata": {},
     "output_type": "execute_result"
    }
   ],
   "source": [
    "len(a)"
   ]
  },
  {
   "cell_type": "code",
   "execution_count": 10,
   "id": "87fde5c8",
   "metadata": {},
   "outputs": [
    {
     "name": "stdout",
     "output_type": "stream",
     "text": [
      "T\n",
      "h\n",
      "i\n",
      "s\n",
      " \n",
      "i\n",
      "s\n",
      " \n",
      "o\n",
      "u\n",
      "r\n",
      " \n",
      "f\n",
      "i\n",
      "r\n",
      "s\n",
      "t\n",
      " \n",
      "c\n",
      "l\n",
      "a\n",
      "s\n",
      "s\n"
     ]
    }
   ],
   "source": [
    "for i in range(len(a)):\n",
    "        print(a[i])"
   ]
  },
  {
   "cell_type": "code",
   "execution_count": 5,
   "id": "f70013ef",
   "metadata": {},
   "outputs": [
    {
     "name": "stdout",
     "output_type": "stream",
     "text": [
      "index 0 value =  T\n",
      "index 1 value =  h\n",
      "index 2 value =  i\n",
      "index 3 value =  s\n",
      "index 4 value =   \n",
      "index 5 value =  i\n",
      "index 6 value =  s\n",
      "index 7 value =   \n",
      "index 8 value =  o\n",
      "index 9 value =  u\n",
      "index 10 value =  r\n",
      "index 11 value =   \n",
      "index 12 value =  f\n",
      "index 13 value =  i\n",
      "index 14 value =  r\n",
      "index 15 value =  s\n",
      "index 16 value =  t\n",
      "index 17 value =   \n",
      "index 18 value =  c\n",
      "index 19 value =  l\n",
      "index 20 value =  a\n",
      "index 21 value =  s\n",
      "index 22 value =  s\n"
     ]
    }
   ],
   "source": [
    "for i in range(len(a)):\n",
    "    print('index',i,'value = ',a[i])"
   ]
  },
  {
   "cell_type": "code",
   "execution_count": 11,
   "id": "97f8dfef",
   "metadata": {},
   "outputs": [],
   "source": [
    "x=range(10,-10,-2)"
   ]
  },
  {
   "cell_type": "code",
   "execution_count": 12,
   "id": "7a4bdcba",
   "metadata": {},
   "outputs": [
    {
     "data": {
      "text/plain": [
       "6"
      ]
     },
     "execution_count": 12,
     "metadata": {},
     "output_type": "execute_result"
    }
   ],
   "source": [
    "x[2]"
   ]
  },
  {
   "cell_type": "code",
   "execution_count": 14,
   "id": "08c24487",
   "metadata": {},
   "outputs": [
    {
     "name": "stdout",
     "output_type": "stream",
     "text": [
      "Total No. of words 5\n"
     ]
    }
   ],
   "source": [
    "#counting the number of words\n",
    "count = 0\n",
    "\n",
    "for i in a:\n",
    "    if i == ' ':\n",
    "        count = count+1\n",
    "\n",
    "print('Total No. of words',count+1)"
   ]
  },
  {
   "cell_type": "code",
   "execution_count": 15,
   "id": "c6c6cb0b",
   "metadata": {},
   "outputs": [
    {
     "data": {
      "text/plain": [
       "5"
      ]
     },
     "execution_count": 15,
     "metadata": {},
     "output_type": "execute_result"
    }
   ],
   "source": [
    "#shortcut\n",
    "len(a.split(' '))"
   ]
  },
  {
   "cell_type": "markdown",
   "id": "bba0fe21",
   "metadata": {},
   "source": [
    "# List"
   ]
  },
  {
   "cell_type": "code",
   "execution_count": 16,
   "id": "c96f6849",
   "metadata": {},
   "outputs": [],
   "source": [
    "l1=[]"
   ]
  },
  {
   "cell_type": "code",
   "execution_count": 17,
   "id": "2513ca09",
   "metadata": {},
   "outputs": [
    {
     "data": {
      "text/plain": [
       "list"
      ]
     },
     "execution_count": 17,
     "metadata": {},
     "output_type": "execute_result"
    }
   ],
   "source": [
    "type(l1)"
   ]
  },
  {
   "cell_type": "code",
   "execution_count": 18,
   "id": "83b4b156",
   "metadata": {},
   "outputs": [],
   "source": [
    "l1 = ['Sreemanto','Jay',139,15.1]"
   ]
  },
  {
   "cell_type": "code",
   "execution_count": 19,
   "id": "beb2547f",
   "metadata": {},
   "outputs": [],
   "source": [
    "#add a new element in the list\n",
    "l1.append('Tejas')"
   ]
  },
  {
   "cell_type": "code",
   "execution_count": 20,
   "id": "50bd7cf5",
   "metadata": {},
   "outputs": [
    {
     "data": {
      "text/plain": [
       "['Sreemanto', 'Jay', 139, 15.1, 'Tejas']"
      ]
     },
     "execution_count": 20,
     "metadata": {},
     "output_type": "execute_result"
    }
   ],
   "source": [
    "l1"
   ]
  },
  {
   "cell_type": "code",
   "execution_count": 25,
   "id": "bf1dd014",
   "metadata": {},
   "outputs": [],
   "source": [
    "#Apprnd - append element at  time\n",
    "l1.extend([100,200])"
   ]
  },
  {
   "cell_type": "code",
   "execution_count": 26,
   "id": "1c964dbb",
   "metadata": {},
   "outputs": [
    {
     "data": {
      "text/plain": [
       "['Sreemanto', 'Jay', 139, 15.1, 'Tejas', 100, 200, 100, 200]"
      ]
     },
     "execution_count": 26,
     "metadata": {},
     "output_type": "execute_result"
    }
   ],
   "source": [
    "l1"
   ]
  },
  {
   "cell_type": "code",
   "execution_count": 27,
   "id": "c87592b3",
   "metadata": {},
   "outputs": [
    {
     "ename": "TypeError",
     "evalue": "append() takes exactly one argument (2 given)",
     "output_type": "error",
     "traceback": [
      "\u001b[1;31m---------------------------------------------------------------------------\u001b[0m",
      "\u001b[1;31mTypeError\u001b[0m                                 Traceback (most recent call last)",
      "\u001b[1;32m<ipython-input-27-3b8a8b7b49ef>\u001b[0m in \u001b[0;36m<module>\u001b[1;34m\u001b[0m\n\u001b[1;32m----> 1\u001b[1;33m \u001b[0ml1\u001b[0m\u001b[1;33m.\u001b[0m\u001b[0mappend\u001b[0m\u001b[1;33m(\u001b[0m\u001b[1;36m100\u001b[0m\u001b[1;33m,\u001b[0m\u001b[1;36m200\u001b[0m\u001b[1;33m)\u001b[0m\u001b[1;33m\u001b[0m\u001b[1;33m\u001b[0m\u001b[0m\n\u001b[0m",
      "\u001b[1;31mTypeError\u001b[0m: append() takes exactly one argument (2 given)"
     ]
    }
   ],
   "source": [
    "l1.append(100,200)"
   ]
  },
  {
   "cell_type": "code",
   "execution_count": 23,
   "id": "15f49ff2",
   "metadata": {},
   "outputs": [
    {
     "data": {
      "text/plain": [
       "'Sreemanto'"
      ]
     },
     "execution_count": 23,
     "metadata": {},
     "output_type": "execute_result"
    }
   ],
   "source": [
    "l1[0]"
   ]
  },
  {
   "cell_type": "code",
   "execution_count": 28,
   "id": "419ca48e",
   "metadata": {},
   "outputs": [
    {
     "data": {
      "text/plain": [
       "'Jay'"
      ]
     },
     "execution_count": 28,
     "metadata": {},
     "output_type": "execute_result"
    }
   ],
   "source": [
    "l1[1]"
   ]
  },
  {
   "cell_type": "code",
   "execution_count": 29,
   "id": "b1e05f2c",
   "metadata": {},
   "outputs": [
    {
     "data": {
      "text/plain": [
       "200"
      ]
     },
     "execution_count": 29,
     "metadata": {},
     "output_type": "execute_result"
    }
   ],
   "source": [
    "l1[-1]"
   ]
  },
  {
   "cell_type": "code",
   "execution_count": 30,
   "id": "a5488b4a",
   "metadata": {},
   "outputs": [],
   "source": [
    "l2 = [123,39,45]"
   ]
  },
  {
   "cell_type": "code",
   "execution_count": 32,
   "id": "53d73fb4",
   "metadata": {},
   "outputs": [
    {
     "data": {
      "text/plain": [
       "[39, 45, 123]"
      ]
     },
     "execution_count": 32,
     "metadata": {},
     "output_type": "execute_result"
    }
   ],
   "source": [
    "l2.sort()\n",
    "l2"
   ]
  },
  {
   "cell_type": "code",
   "execution_count": 33,
   "id": "053c4b32",
   "metadata": {},
   "outputs": [],
   "source": [
    "l3 = ['Tejas','Sree','Yash']"
   ]
  },
  {
   "cell_type": "code",
   "execution_count": 34,
   "id": "62d57672",
   "metadata": {},
   "outputs": [],
   "source": [
    "l3.sort()"
   ]
  },
  {
   "cell_type": "code",
   "execution_count": 35,
   "id": "8090de97",
   "metadata": {},
   "outputs": [
    {
     "data": {
      "text/plain": [
       "['Sree', 'Tejas', 'Yash']"
      ]
     },
     "execution_count": 35,
     "metadata": {},
     "output_type": "execute_result"
    }
   ],
   "source": [
    "l3"
   ]
  },
  {
   "cell_type": "code",
   "execution_count": 36,
   "id": "4ab93b01",
   "metadata": {},
   "outputs": [],
   "source": [
    "l4 =[[121,'Sree',5.5],[122,'Jay',3.1],[123,'Tarun',2.1]]"
   ]
  },
  {
   "cell_type": "code",
   "execution_count": 38,
   "id": "4bc18b40",
   "metadata": {},
   "outputs": [
    {
     "data": {
      "text/plain": [
       "3"
      ]
     },
     "execution_count": 38,
     "metadata": {},
     "output_type": "execute_result"
    }
   ],
   "source": [
    "len(l4)"
   ]
  },
  {
   "cell_type": "code",
   "execution_count": 39,
   "id": "987f8df3",
   "metadata": {},
   "outputs": [
    {
     "data": {
      "text/plain": [
       "[121, 'Sree', 5.5]"
      ]
     },
     "execution_count": 39,
     "metadata": {},
     "output_type": "execute_result"
    }
   ],
   "source": [
    "l4.pop(0)"
   ]
  },
  {
   "cell_type": "code",
   "execution_count": 40,
   "id": "a154ab1d",
   "metadata": {},
   "outputs": [
    {
     "data": {
      "text/plain": [
       "[[122, 'Jay', 3.1], [123, 'Tarun', 2.1]]"
      ]
     },
     "execution_count": 40,
     "metadata": {},
     "output_type": "execute_result"
    }
   ],
   "source": [
    "l4"
   ]
  },
  {
   "cell_type": "code",
   "execution_count": 41,
   "id": "4935ec50",
   "metadata": {},
   "outputs": [],
   "source": [
    "a = l4.pop(1)"
   ]
  },
  {
   "cell_type": "code",
   "execution_count": 42,
   "id": "c43681b8",
   "metadata": {},
   "outputs": [
    {
     "data": {
      "text/plain": [
       "[123, 'Tarun', 2.1]"
      ]
     },
     "execution_count": 42,
     "metadata": {},
     "output_type": "execute_result"
    }
   ],
   "source": [
    "a"
   ]
  },
  {
   "cell_type": "code",
   "execution_count": 43,
   "id": "d12fca36",
   "metadata": {},
   "outputs": [
    {
     "data": {
      "text/plain": [
       "['Sree', 'Tejas', 'Yash']"
      ]
     },
     "execution_count": 43,
     "metadata": {},
     "output_type": "execute_result"
    }
   ],
   "source": [
    "l3"
   ]
  },
  {
   "cell_type": "code",
   "execution_count": 44,
   "id": "3f34b52b",
   "metadata": {},
   "outputs": [],
   "source": [
    "l3.remove('Tejas')"
   ]
  },
  {
   "cell_type": "code",
   "execution_count": 45,
   "id": "6444a382",
   "metadata": {},
   "outputs": [
    {
     "data": {
      "text/plain": [
       "['Sree', 'Yash']"
      ]
     },
     "execution_count": 45,
     "metadata": {},
     "output_type": "execute_result"
    }
   ],
   "source": [
    "l3"
   ]
  },
  {
   "cell_type": "code",
   "execution_count": 46,
   "id": "0d23e1a6",
   "metadata": {},
   "outputs": [],
   "source": [
    "str1 ='timothy King Astor IV'\n",
    "\n",
    "#copy all the vowels in a list\n",
    "vowels_list = []\n",
    "\n",
    "for i  in str1:\n",
    "        if i in 'AEIOUaeiou':\n",
    "            vowels_list.append(i)\n",
    "    "
   ]
  },
  {
   "cell_type": "code",
   "execution_count": 47,
   "id": "cfabdf8e",
   "metadata": {},
   "outputs": [
    {
     "data": {
      "text/plain": [
       "['i', 'o', 'i', 'A', 'o', 'I']"
      ]
     },
     "execution_count": 47,
     "metadata": {},
     "output_type": "execute_result"
    }
   ],
   "source": [
    "vowels_list"
   ]
  },
  {
   "cell_type": "code",
   "execution_count": 48,
   "id": "e0c29e3e",
   "metadata": {},
   "outputs": [],
   "source": [
    "Emp_details =[[121,'Sree',5.5],[122,'Jay',3.1],[123,'Tarun',2.1]]\n",
    "\n",
    "#how do i extract only the employee id?\n",
    "#Extract all the Employee id?\n",
    "#Extract all the employee details for employees have work ex > 3"
   ]
  },
  {
   "cell_type": "code",
   "execution_count": 49,
   "id": "62c6edd7",
   "metadata": {},
   "outputs": [
    {
     "data": {
      "text/plain": [
       "[121, 'Sree', 5.5]"
      ]
     },
     "execution_count": 49,
     "metadata": {},
     "output_type": "execute_result"
    }
   ],
   "source": [
    "Emp_details[0]"
   ]
  },
  {
   "cell_type": "code",
   "execution_count": 50,
   "id": "8528790b",
   "metadata": {},
   "outputs": [
    {
     "data": {
      "text/plain": [
       "121"
      ]
     },
     "execution_count": 50,
     "metadata": {},
     "output_type": "execute_result"
    }
   ],
   "source": [
    "Emp_details[0][0]"
   ]
  },
  {
   "cell_type": "code",
   "execution_count": 51,
   "id": "f39cbe8f",
   "metadata": {},
   "outputs": [
    {
     "data": {
      "text/plain": [
       "'Sree'"
      ]
     },
     "execution_count": 51,
     "metadata": {},
     "output_type": "execute_result"
    }
   ],
   "source": [
    "Emp_details[0][1]"
   ]
  },
  {
   "cell_type": "code",
   "execution_count": 54,
   "id": "bb55e840",
   "metadata": {},
   "outputs": [],
   "source": [
    "Emp_ids = []\n",
    "\n",
    "for employees in Emp_details:\n",
    "    #print(employees[0])\n",
    "    Emp_ids.append(employees[0])"
   ]
  },
  {
   "cell_type": "code",
   "execution_count": 55,
   "id": "682e87dc",
   "metadata": {},
   "outputs": [
    {
     "data": {
      "text/plain": [
       "[121, 122, 123]"
      ]
     },
     "execution_count": 55,
     "metadata": {},
     "output_type": "execute_result"
    }
   ],
   "source": [
    "Emp_ids"
   ]
  },
  {
   "cell_type": "code",
   "execution_count": 57,
   "id": "a3ecd19c",
   "metadata": {},
   "outputs": [
    {
     "name": "stdout",
     "output_type": "stream",
     "text": [
      "[121, 'Sree', 5.5]\n",
      "[122, 'Jay', 3.1]\n"
     ]
    }
   ],
   "source": [
    "#Extract all the employee details for employees have work ex > 3\n",
    "Emps =[]\n",
    "for employees in Emp_details:\n",
    "    if(employees[2]>3):\n",
    "        print(employees)\n",
    "        Emps.append(employees[0])"
   ]
  },
  {
   "cell_type": "code",
   "execution_count": null,
   "id": "346367d9",
   "metadata": {},
   "outputs": [],
   "source": [
    "Emp_details =[[121,'Sree',5.5],[122,'Jay',3.1],[123,'Tarun',2.1]]\n"
   ]
  },
  {
   "cell_type": "code",
   "execution_count": 58,
   "id": "1e0e9162",
   "metadata": {},
   "outputs": [
    {
     "data": {
      "text/plain": [
       "[121, 122, 123]"
      ]
     },
     "execution_count": 58,
     "metadata": {},
     "output_type": "execute_result"
    }
   ],
   "source": [
    "#extracting all the employee id?\n",
    "[i[0] for i in  Emp_details]"
   ]
  },
  {
   "cell_type": "markdown",
   "id": "f1ded751",
   "metadata": {},
   "source": [
    "# List Comprehensions"
   ]
  },
  {
   "cell_type": "code",
   "execution_count": 60,
   "id": "7f94244c",
   "metadata": {},
   "outputs": [],
   "source": [
    "squares=[]\n",
    "\n",
    "for i in range (10):\n",
    "    squares.append(i*i)"
   ]
  },
  {
   "cell_type": "code",
   "execution_count": 62,
   "id": "b361475c",
   "metadata": {},
   "outputs": [
    {
     "data": {
      "text/plain": [
       "[0, 1, 4, 9, 16, 25, 36, 49, 64, 81]"
      ]
     },
     "execution_count": 62,
     "metadata": {},
     "output_type": "execute_result"
    }
   ],
   "source": [
    "squares"
   ]
  },
  {
   "cell_type": "code",
   "execution_count": 64,
   "id": "70d6d320",
   "metadata": {},
   "outputs": [
    {
     "data": {
      "text/plain": [
       "[0, 1, 4, 9, 16, 25, 36, 49, 64, 81]"
      ]
     },
     "execution_count": 64,
     "metadata": {},
     "output_type": "execute_result"
    }
   ],
   "source": [
    "sq = [i*i for i in range(10)]\n",
    "sq"
   ]
  },
  {
   "cell_type": "code",
   "execution_count": 66,
   "id": "563c310a",
   "metadata": {},
   "outputs": [],
   "source": [
    "bank_statements = [100,-10000,500,-5000,300]"
   ]
  },
  {
   "cell_type": "code",
   "execution_count": 68,
   "id": "5fbccaa5",
   "metadata": {},
   "outputs": [
    {
     "data": {
      "text/plain": [
       "[100, 500, 300]"
      ]
     },
     "execution_count": 68,
     "metadata": {},
     "output_type": "execute_result"
    }
   ],
   "source": [
    "credits = [i for i in bank_statements if i>0]\n",
    "credits"
   ]
  },
  {
   "cell_type": "code",
   "execution_count": 69,
   "id": "a5ac5ff1",
   "metadata": {},
   "outputs": [
    {
     "data": {
      "text/plain": [
       "[-10000, -5000]"
      ]
     },
     "execution_count": 69,
     "metadata": {},
     "output_type": "execute_result"
    }
   ],
   "source": [
    "debits = [i for i in bank_statements if i < 0]\n",
    "debits"
   ]
  },
  {
   "cell_type": "markdown",
   "id": "0a4e68e1",
   "metadata": {},
   "source": [
    "# Tuples"
   ]
  },
  {
   "cell_type": "code",
   "execution_count": null,
   "id": "b18e5855",
   "metadata": {},
   "outputs": [],
   "source": [
    "t1 = ('name',)"
   ]
  },
  {
   "cell_type": "code",
   "execution_count": null,
   "id": "372136e8",
   "metadata": {},
   "outputs": [],
   "source": []
  },
  {
   "cell_type": "code",
   "execution_count": null,
   "id": "d2e37fcb",
   "metadata": {},
   "outputs": [],
   "source": []
  },
  {
   "cell_type": "code",
   "execution_count": null,
   "id": "b83ea469",
   "metadata": {},
   "outputs": [],
   "source": []
  },
  {
   "cell_type": "markdown",
   "id": "af04fb5d",
   "metadata": {},
   "source": [
    "# Dictionaries"
   ]
  },
  {
   "cell_type": "code",
   "execution_count": 70,
   "id": "36b21ec4",
   "metadata": {},
   "outputs": [],
   "source": [
    "#key value pair\n",
    "#similar to how we see objet in a json file\n",
    "\n",
    "car = {\n",
    "        \"brand\":' Hyundai',\n",
    "        \"Model\": 'I20',\n",
    "        \"Year\" : 2015\n",
    "        }"
   ]
  },
  {
   "cell_type": "code",
   "execution_count": 71,
   "id": "b04e329f",
   "metadata": {},
   "outputs": [
    {
     "data": {
      "text/plain": [
       "dict"
      ]
     },
     "execution_count": 71,
     "metadata": {},
     "output_type": "execute_result"
    }
   ],
   "source": [
    "type(car)"
   ]
  },
  {
   "cell_type": "code",
   "execution_count": 72,
   "id": "dad3d094",
   "metadata": {},
   "outputs": [
    {
     "data": {
      "text/plain": [
       "dict_keys(['brand', 'Model', 'Year'])"
      ]
     },
     "execution_count": 72,
     "metadata": {},
     "output_type": "execute_result"
    }
   ],
   "source": [
    "car.keys()"
   ]
  },
  {
   "cell_type": "code",
   "execution_count": 73,
   "id": "53c8b95a",
   "metadata": {},
   "outputs": [
    {
     "data": {
      "text/plain": [
       "dict_values([' Hyundai', 'I20', 2015])"
      ]
     },
     "execution_count": 73,
     "metadata": {},
     "output_type": "execute_result"
    }
   ],
   "source": [
    "car.values()"
   ]
  },
  {
   "cell_type": "code",
   "execution_count": 74,
   "id": "0e0b2e40",
   "metadata": {},
   "outputs": [
    {
     "data": {
      "text/plain": [
       "dict_items([('brand', ' Hyundai'), ('Model', 'I20'), ('Year', 2015)])"
      ]
     },
     "execution_count": 74,
     "metadata": {},
     "output_type": "execute_result"
    }
   ],
   "source": [
    "car.items() # fetches keya nd value pairs in a tuple format"
   ]
  },
  {
   "cell_type": "code",
   "execution_count": 76,
   "id": "dbb9bbe6",
   "metadata": {},
   "outputs": [
    {
     "data": {
      "text/plain": [
       "'I20'"
      ]
     },
     "execution_count": 76,
     "metadata": {},
     "output_type": "execute_result"
    }
   ],
   "source": [
    "#How do you access an element in a dictionary\n",
    "car[\"Model\"]"
   ]
  },
  {
   "cell_type": "code",
   "execution_count": 78,
   "id": "75f54559",
   "metadata": {},
   "outputs": [],
   "source": [
    "#adding a new pair\n",
    "car['Mileage']='13Kmpl'"
   ]
  },
  {
   "cell_type": "code",
   "execution_count": 79,
   "id": "bca3e5df",
   "metadata": {},
   "outputs": [
    {
     "data": {
      "text/plain": [
       "{'brand': ' Hyundai', 'Model': 'I20', 'Year': 2015, 'Mileage': '13Kmpl'}"
      ]
     },
     "execution_count": 79,
     "metadata": {},
     "output_type": "execute_result"
    }
   ],
   "source": [
    "car"
   ]
  },
  {
   "cell_type": "code",
   "execution_count": 80,
   "id": "c2cd500c",
   "metadata": {},
   "outputs": [
    {
     "data": {
      "text/plain": [
       "4"
      ]
     },
     "execution_count": 80,
     "metadata": {},
     "output_type": "execute_result"
    }
   ],
   "source": [
    "len(car)"
   ]
  },
  {
   "cell_type": "code",
   "execution_count": 84,
   "id": "a214d850",
   "metadata": {},
   "outputs": [],
   "source": [
    "Emp = {\n",
    "        'ids':[121,122,123],\n",
    "        'names' : ['Sree','Tejas','Jay'],\n",
    "         'WorkEx' : [1.5,3.2,3.3]\n",
    "        }"
   ]
  },
  {
   "cell_type": "code",
   "execution_count": 85,
   "id": "379aa7e1",
   "metadata": {},
   "outputs": [
    {
     "data": {
      "text/plain": [
       "['Sree', 'Tejas', 'Jay']"
      ]
     },
     "execution_count": 85,
     "metadata": {},
     "output_type": "execute_result"
    }
   ],
   "source": [
    "Emp['names']"
   ]
  },
  {
   "cell_type": "code",
   "execution_count": 99,
   "id": "4b3c6108",
   "metadata": {},
   "outputs": [],
   "source": [
    "Emp = {\n",
    "'121' : {\n",
    "'name' : 'Sree',\n",
    "'WorkEx' : 4.9,\n",
    "'Position' : 'AM',\n",
    "'Salary' : 700000},\n",
    "\n",
    "'122' : {\n",
    "'name' : 'Kunal',\n",
    "'WorkEx' : 3.9,\n",
    "'Position' : 'SM',\n",
    "'Salary' : 1700000},\n",
    "\n",
    "'123' : {\n",
    "'name' : 'Rohan',\n",
    "'WorkEx' : 1.5,\n",
    "'Position' : 'Con',\n",
    "'Salary' : 500000}\n",
    "\n",
    "}"
   ]
  },
  {
   "cell_type": "code",
   "execution_count": 101,
   "id": "ed5e093b",
   "metadata": {},
   "outputs": [
    {
     "name": "stdout",
     "output_type": "stream",
     "text": [
      "2900000\n"
     ]
    }
   ],
   "source": [
    "#fetch the sum of all the salries?\n",
    "sum=0\n",
    "for i in Emp.keys():\n",
    "    #print(i)\n",
    "    #print(int(Emp[i].split('lpa')[0]))\n",
    "    sum=sum+Emp[i]['Salary']\n",
    "    \n",
    "print(sum)"
   ]
  },
  {
   "cell_type": "code",
   "execution_count": 96,
   "id": "2dfb16b0",
   "metadata": {},
   "outputs": [
    {
     "name": "stdout",
     "output_type": "stream",
     "text": [
      "Sree\n",
      "Kunal\n",
      "Rohan\n"
     ]
    }
   ],
   "source": [
    "#fetch me the names \n",
    "for i in Emp.keys():\n",
    "    #print(i)\n",
    "    print(Emp[i]['name'])"
   ]
  },
  {
   "cell_type": "code",
   "execution_count": 111,
   "id": "0cd1a903",
   "metadata": {},
   "outputs": [],
   "source": [
    "Emp1 = {\n",
    "'121' : {\n",
    "'name' : 'Sree',\n",
    "'WorkEx' : 4.9,\n",
    "'Position' : 'AM',\n",
    "'Salary' : '7LPA'},\n",
    "\n",
    "'122' : {\n",
    "'name' : 'Kunal',\n",
    "'WorkEx' : 3.9,\n",
    "'Position' : 'SM',\n",
    "'Salary' : '17LPA'},\n",
    "\n",
    "'123' : {\n",
    "'name' : 'Rohan',\n",
    "'WorkEx' : 1.5,\n",
    "'Position' : 'Con',\n",
    "'Salary' : '5LPA'}\n",
    "\n",
    "}\n",
    "\n"
   ]
  },
  {
   "cell_type": "code",
   "execution_count": 121,
   "id": "688f0d9f",
   "metadata": {},
   "outputs": [
    {
     "name": "stdout",
     "output_type": "stream",
     "text": [
      "29\n"
     ]
    }
   ],
   "source": [
    "#fetch the sum of all the salries?\n",
    "sum=0\n",
    "for i in Emp1.keys():\n",
    "    #print(i)\n",
    "    sum=sum+int(Emp1[i]['Salary'].split('LPA')[0])\n",
    "    #sum=sum+Emp1[i]['Salary']\n",
    "    \n",
    "print(sum)"
   ]
  },
  {
   "cell_type": "code",
   "execution_count": 122,
   "id": "ada043d5",
   "metadata": {},
   "outputs": [
    {
     "name": "stdout",
     "output_type": "stream",
     "text": [
      "Not a part of the function\n"
     ]
    }
   ],
   "source": [
    "def simple():\n",
    "    print('Entered the function')\n",
    "    print('Simple function')\n",
    "    \n",
    "print('Not a part of the function')\n"
   ]
  },
  {
   "cell_type": "code",
   "execution_count": 123,
   "id": "8f0a59cf",
   "metadata": {},
   "outputs": [
    {
     "name": "stdout",
     "output_type": "stream",
     "text": [
      "Entered the function\n",
      "Simple function\n"
     ]
    }
   ],
   "source": [
    "simple()"
   ]
  },
  {
   "cell_type": "code",
   "execution_count": 125,
   "id": "8198aef1",
   "metadata": {},
   "outputs": [],
   "source": [
    "#function with a parameter\n",
    "def plus_ten(a):\n",
    "    print('Value',a)\n",
    "    "
   ]
  },
  {
   "cell_type": "code",
   "execution_count": 126,
   "id": "23390592",
   "metadata": {},
   "outputs": [
    {
     "name": "stdout",
     "output_type": "stream",
     "text": [
      "Value 10\n"
     ]
    }
   ],
   "source": [
    "plus_ten(10)"
   ]
  },
  {
   "cell_type": "code",
   "execution_count": 127,
   "id": "06d12bfe",
   "metadata": {},
   "outputs": [],
   "source": [
    "#function with a parameter and returning a value"
   ]
  },
  {
   "cell_type": "code",
   "execution_count": 128,
   "id": "1b0e8041",
   "metadata": {},
   "outputs": [],
   "source": [
    "def plus_ten(a):\n",
    "    print('Value',a)\n",
    "    return a+10"
   ]
  },
  {
   "cell_type": "code",
   "execution_count": 129,
   "id": "836ca97c",
   "metadata": {},
   "outputs": [
    {
     "name": "stdout",
     "output_type": "stream",
     "text": [
      "Value 25\n"
     ]
    },
    {
     "data": {
      "text/plain": [
       "35"
      ]
     },
     "execution_count": 129,
     "metadata": {},
     "output_type": "execute_result"
    }
   ],
   "source": [
    "plus_ten(25)"
   ]
  },
  {
   "cell_type": "code",
   "execution_count": 130,
   "id": "d6ffc479",
   "metadata": {},
   "outputs": [
    {
     "name": "stdout",
     "output_type": "stream",
     "text": [
      "Value 25\n"
     ]
    },
    {
     "data": {
      "text/plain": [
       "35"
      ]
     },
     "execution_count": 130,
     "metadata": {},
     "output_type": "execute_result"
    }
   ],
   "source": [
    "val = plus_ten(25)\n",
    "val"
   ]
  },
  {
   "cell_type": "code",
   "execution_count": 131,
   "id": "4775bb46",
   "metadata": {},
   "outputs": [],
   "source": [
    "def minus_ten(a):\n",
    "    print('Value',a-10)"
   ]
  },
  {
   "cell_type": "code",
   "execution_count": 132,
   "id": "2e8c730a",
   "metadata": {},
   "outputs": [
    {
     "name": "stdout",
     "output_type": "stream",
     "text": [
      "Value 215\n"
     ]
    }
   ],
   "source": [
    "minus_ten(225)"
   ]
  },
  {
   "cell_type": "code",
   "execution_count": 140,
   "id": "765cf4ec",
   "metadata": {},
   "outputs": [
    {
     "name": "stdout",
     "output_type": "stream",
     "text": [
      "Value 215\n"
     ]
    }
   ],
   "source": [
    "val=minus_ten(225)\n"
   ]
  },
  {
   "cell_type": "code",
   "execution_count": 143,
   "id": "72d9703d",
   "metadata": {},
   "outputs": [
    {
     "name": "stdout",
     "output_type": "stream",
     "text": [
      "None\n"
     ]
    }
   ],
   "source": [
    "print(val)\n"
   ]
  },
  {
   "cell_type": "code",
   "execution_count": 145,
   "id": "a4b19d4f",
   "metadata": {},
   "outputs": [],
   "source": [
    "#nested Functions\n",
    "def wage(w_hour):\n",
    "        print('entered the wage function')\n",
    "        return(w_hour*10)\n",
    "        "
   ]
  },
  {
   "cell_type": "code",
   "execution_count": 149,
   "id": "d61d182e",
   "metadata": {},
   "outputs": [],
   "source": [
    "def with_bonus(val):\n",
    "        return(val+50)"
   ]
  },
  {
   "cell_type": "code",
   "execution_count": 146,
   "id": "57a86eba",
   "metadata": {},
   "outputs": [
    {
     "name": "stdout",
     "output_type": "stream",
     "text": [
      "entered the wage function\n"
     ]
    },
    {
     "data": {
      "text/plain": [
       "50"
      ]
     },
     "execution_count": 146,
     "metadata": {},
     "output_type": "execute_result"
    }
   ],
   "source": [
    "wage(5)"
   ]
  },
  {
   "cell_type": "code",
   "execution_count": 150,
   "id": "6e4a945f",
   "metadata": {},
   "outputs": [
    {
     "data": {
      "text/plain": [
       "100"
      ]
     },
     "execution_count": 150,
     "metadata": {},
     "output_type": "execute_result"
    }
   ],
   "source": [
    "with_bonus(50)"
   ]
  }
 ],
 "metadata": {
  "kernelspec": {
   "display_name": "Python 3",
   "language": "python",
   "name": "python3"
  },
  "language_info": {
   "codemirror_mode": {
    "name": "ipython",
    "version": 3
   },
   "file_extension": ".py",
   "mimetype": "text/x-python",
   "name": "python",
   "nbconvert_exporter": "python",
   "pygments_lexer": "ipython3",
   "version": "3.8.8"
  }
 },
 "nbformat": 4,
 "nbformat_minor": 5
}
